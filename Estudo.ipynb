{
 "cells": [
  {
   "cell_type": "code",
   "execution_count": 2,
   "metadata": {},
   "outputs": [],
   "source": [
    "# Importando a biblioteca SQLite\n",
    "import sqlite3"
   ]
  },
  {
   "cell_type": "code",
   "execution_count": 3,
   "metadata": {},
   "outputs": [],
   "source": [
    "# Criando o banco de dados\n",
    "conexao = sqlite3.connect('BancoDados')"
   ]
  },
  {
   "cell_type": "code",
   "execution_count": 4,
   "metadata": {},
   "outputs": [],
   "source": [
    "# Apontando para o banco de dados, com a variável cursor. Sempre que for enviar infos para o BD, utilizaremos a variável cursor\n",
    "cursor = conexao.cursor()"
   ]
  },
  {
   "cell_type": "code",
   "execution_count": null,
   "metadata": {},
   "outputs": [],
   "source": [
    "# CREATE TABLE - criar tabelas dentro do banco de dados\n",
    "cursor.execute(\n",
    "    'CREATE TABLE primeira_tabela (Data text, Nome text, Idade real)'\n",
    ")"
   ]
  },
  {
   "cell_type": "code",
   "execution_count": 8,
   "metadata": {},
   "outputs": [],
   "source": [
    "# Para, de fato, criar a tabela, precisamos fazer um commit\n",
    "conexao.commit()"
   ]
  },
  {
   "cell_type": "code",
   "execution_count": 10,
   "metadata": {},
   "outputs": [
    {
     "data": {
      "text/plain": [
       "<sqlite3.Cursor at 0x2befc629f40>"
      ]
     },
     "execution_count": 10,
     "metadata": {},
     "output_type": "execute_result"
    }
   ],
   "source": [
    "# Inserindo dados na nossa tabela\n",
    "cursor.execute('INSERT INTO primeira_tabela VALUES(\"03/06/2022\", \"Renata\", \"24\")')\n",
    "# INSERT INTO (nome da tabela) VALUES (valores separados por vírgula e na ordem)"
   ]
  },
  {
   "cell_type": "code",
   "execution_count": null,
   "metadata": {},
   "outputs": [],
   "source": [
    "# Importanto biblioteca de números aleatórios\n",
    "import random\n",
    "\n",
    "#loop para executar 10 vezes\n",
    "for loop in range(10):\n",
    "    numeroAleatorio = random.randint(10,20)\n",
    "\n",
    "#Inserindo informação na tabela\n",
    "cursor.execute('INSERT INTO primeira_tabela VALUES (\"04/06/2022\", \"Alguém\", (numeroAleatorio) )')"
   ]
  },
  {
   "cell_type": "code",
   "execution_count": 23,
   "metadata": {},
   "outputs": [
    {
     "name": "stdout",
     "output_type": "stream",
     "text": [
      "[('03/06/2022', 'Renata', 24.0), ('03/06/2022', 'Renata', 24.0)]\n"
     ]
    }
   ],
   "source": [
    "# Query de consulta\n",
    "consulta = cursor.execute( ' SELECT * FROM primeira_tabela').fetchall()\n",
    "\n",
    "print(consulta)"
   ]
  },
  {
   "cell_type": "code",
   "execution_count": 25,
   "metadata": {},
   "outputs": [
    {
     "name": "stdout",
     "output_type": "stream",
     "text": [
      "('Renata', 24.0)\n",
      "('Renata', 24.0)\n"
     ]
    }
   ],
   "source": [
    "# Consultando apenas coluna nome e idade\n",
    "consulta_2 = cursor.execute('SELECT Nome, Idade FROM primeira_tabela').fetchall()\n",
    "\n",
    "#loop para mostrar em lista\n",
    "for linha in consulta_2:\n",
    "    print(linha)\n"
   ]
  },
  {
   "cell_type": "code",
   "execution_count": null,
   "metadata": {},
   "outputs": [],
   "source": []
  },
  {
   "cell_type": "code",
   "execution_count": null,
   "metadata": {},
   "outputs": [],
   "source": []
  }
 ],
 "metadata": {
  "interpreter": {
   "hash": "e80eb6d4f074f3e83d6ecb2ed02800235e4095071f0f6ec513ba1b498868aa39"
  },
  "kernelspec": {
   "display_name": "Python 3.10.4 64-bit",
   "language": "python",
   "name": "python3"
  },
  "language_info": {
   "codemirror_mode": {
    "name": "ipython",
    "version": 3
   },
   "file_extension": ".py",
   "mimetype": "text/x-python",
   "name": "python",
   "nbconvert_exporter": "python",
   "pygments_lexer": "ipython3",
   "version": "3.10.4"
  },
  "orig_nbformat": 4
 },
 "nbformat": 4,
 "nbformat_minor": 2
}
